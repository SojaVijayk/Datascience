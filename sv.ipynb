{
 "cells": [
  {
   "cell_type": "code",
   "execution_count": 1,
   "id": "9b2bfd0b",
   "metadata": {},
   "outputs": [
    {
     "name": "stdout",
     "output_type": "stream",
     "text": [
      "Original Matrix:\n",
      "[[4 8 2]\n",
      " [4 2 7]]\n",
      "\n",
      "Reconstructed Matrix (with reduced dimensions):\n",
      "[[4. 8. 2.]\n",
      " [4. 2. 7.]]\n"
     ]
    }
   ],
   "source": [
    "#sv\n",
    "import numpy as np\n",
    "X=np.array([[4,8,2],[4,2,7]])\n",
    "U,S,VT=np.linalg.svd(X)\n",
    "n_comp=2\n",
    "X_recon=np.dot(U[:, :n_comp],np.dot(np.diag(S[:n_comp]),VT[:n_comp, :]))\n",
    "print(\"Original Matrix:\")\n",
    "print(X)\n",
    "print(\"\\nReconstructed Matrix (with reduced dimensions):\")\n",
    "print(X_recon)"
   ]
  },
  {
   "cell_type": "code",
   "execution_count": null,
   "id": "b070d3f4",
   "metadata": {},
   "outputs": [],
   "source": []
  }
 ],
 "metadata": {
  "kernelspec": {
   "display_name": "Python 3 (ipykernel)",
   "language": "python",
   "name": "python3"
  },
  "language_info": {
   "codemirror_mode": {
    "name": "ipython",
    "version": 3
   },
   "file_extension": ".py",
   "mimetype": "text/x-python",
   "name": "python",
   "nbconvert_exporter": "python",
   "pygments_lexer": "ipython3",
   "version": "3.11.5"
  }
 },
 "nbformat": 4,
 "nbformat_minor": 5
}
