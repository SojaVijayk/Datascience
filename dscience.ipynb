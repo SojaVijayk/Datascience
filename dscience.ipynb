{
 "cells": [
  {
   "cell_type": "code",
   "execution_count": 1,
   "id": "617f2752",
   "metadata": {},
   "outputs": [
    {
     "name": "stdout",
     "output_type": "stream",
     "text": [
      "Enter list :4 5 2 1 9\n",
      "Largest Number is: 9\n"
     ]
    }
   ],
   "source": [
    "num=input(\"Enter list :\")\n",
    "num_l=list(map(int,num.split()))\n",
    "largest=max(num_l)\n",
    "print(\"Largest Number is:\",largest)"
   ]
  },
  {
   "cell_type": "code",
   "execution_count": 2,
   "id": "8c1d3fa4",
   "metadata": {},
   "outputs": [
    {
     "name": "stdout",
     "output_type": "stream",
     "text": [
      "Enter list :5 7 2 8 9\n",
      "Largest Number is: 9\n"
     ]
    }
   ],
   "source": [
    "num=input(\"Enter list :\")\n",
    "num_l=list(map(int,num.split()))\n",
    "largest=num_l[0]\n",
    "for n in num_l:\n",
    "    if n > largest:\n",
    "        largest=n\n",
    "print(\"Largest Number is:\",largest)"
   ]
  },
  {
   "cell_type": "code",
   "execution_count": null,
   "id": "7775c54a",
   "metadata": {},
   "outputs": [],
   "source": []
  }
 ],
 "metadata": {
  "kernelspec": {
   "display_name": "Python 3 (ipykernel)",
   "language": "python",
   "name": "python3"
  },
  "language_info": {
   "codemirror_mode": {
    "name": "ipython",
    "version": 3
   },
   "file_extension": ".py",
   "mimetype": "text/x-python",
   "name": "python",
   "nbconvert_exporter": "python",
   "pygments_lexer": "ipython3",
   "version": "3.11.5"
  }
 },
 "nbformat": 4,
 "nbformat_minor": 5
}
