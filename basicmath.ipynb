{
 "cells": [
  {
   "cell_type": "code",
   "execution_count": 1,
   "id": "b9c35c09",
   "metadata": {},
   "outputs": [
    {
     "name": "stdout",
     "output_type": "stream",
     "text": [
      "Enter first a number:20\n",
      "Enter second number:10\n",
      "Addition: 30\n",
      "Subtraction: 10\n",
      "Multiplication: 200\n",
      "Division: 2.0\n",
      "Modulous: 0\n"
     ]
    }
   ],
   "source": [
    "a=int(input(\"Enter first a number:\"))\n",
    "b=int(input(\"Enter second number:\"))\n",
    "\n",
    "print(\"Addition:\",a+b)\n",
    "print(\"Subtraction:\",a-b)\n",
    "print(\"Multiplication:\",a*b)\n",
    "print(\"Division:\",a/b)\n",
    "print(\"Modulous:\",a%b)"
   ]
  },
  {
   "cell_type": "code",
   "execution_count": null,
   "id": "a8fdeb60",
   "metadata": {},
   "outputs": [],
   "source": []
  }
 ],
 "metadata": {
  "kernelspec": {
   "display_name": "Python 3 (ipykernel)",
   "language": "python",
   "name": "python3"
  },
  "language_info": {
   "codemirror_mode": {
    "name": "ipython",
    "version": 3
   },
   "file_extension": ".py",
   "mimetype": "text/x-python",
   "name": "python",
   "nbconvert_exporter": "python",
   "pygments_lexer": "ipython3",
   "version": "3.11.5"
  }
 },
 "nbformat": 4,
 "nbformat_minor": 5
}
