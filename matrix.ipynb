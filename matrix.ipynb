{
 "cells": [
  {
   "cell_type": "code",
   "execution_count": 1,
   "id": "d817a08c",
   "metadata": {},
   "outputs": [
    {
     "name": "stdout",
     "output_type": "stream",
     "text": [
      "First Matrix:\n",
      "[[1 5]\n",
      " [2 6]]\n",
      "Second Matrix:\n",
      "[[3 4]\n",
      " [4 2]]\n",
      "Matrix after Addition:\n",
      "[[4 9]\n",
      " [6 8]]\n",
      "Matrix after Subtraction:\n",
      "[[-2  1]\n",
      " [-2  4]]\n",
      "Matrix after Multiplication:\n",
      "[[ 3 20]\n",
      " [ 8 12]]\n",
      "Matrix after Dot Product\n",
      "[[23 14]\n",
      " [30 20]]\n",
      "Transpose of First Matrix:\n",
      "[[1 2]\n",
      " [5 6]]\n",
      "Transpose of Second Matrix:\n",
      "[[3 4]\n",
      " [4 2]]\n"
     ]
    }
   ],
   "source": [
    "import numpy as np\n",
    "A=np.array([[1,5],[2,6]])\n",
    "B=np.array([[3,4],[4,2]])\n",
    "print(\"First Matrix:\")\n",
    "print(A)\n",
    "print(\"Second Matrix:\")\n",
    "print(B)\n",
    "\n",
    "C=A+B\n",
    "print(\"Matrix after Addition:\")\n",
    "print(C)\n",
    "\n",
    "D=A-B\n",
    "print(\"Matrix after Subtraction:\")\n",
    "print(D)\n",
    "\n",
    "E=A*B\n",
    "print(\"Matrix after Multiplication:\")\n",
    "print(E)\n",
    "\n",
    "F=np.dot(A,B)\n",
    "print(\"Matrix after Dot Product\")\n",
    "print(F)\n",
    "\n",
    "G=A.T\n",
    "print(\"Transpose of First Matrix:\")\n",
    "print(G)\n",
    "\n",
    "H=B.T\n",
    "print(\"Transpose of Second Matrix:\")\n",
    "print(H)"
   ]
  },
  {
   "cell_type": "code",
   "execution_count": null,
   "id": "e8b12bc1",
   "metadata": {},
   "outputs": [],
   "source": []
  }
 ],
 "metadata": {
  "kernelspec": {
   "display_name": "Python 3 (ipykernel)",
   "language": "python",
   "name": "python3"
  },
  "language_info": {
   "codemirror_mode": {
    "name": "ipython",
    "version": 3
   },
   "file_extension": ".py",
   "mimetype": "text/x-python",
   "name": "python",
   "nbconvert_exporter": "python",
   "pygments_lexer": "ipython3",
   "version": "3.11.5"
  }
 },
 "nbformat": 4,
 "nbformat_minor": 5
}
